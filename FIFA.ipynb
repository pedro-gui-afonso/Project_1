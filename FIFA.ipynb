{
 "cells": [
  {
   "cell_type": "code",
   "execution_count": 1,
   "id": "6b3f3404",
   "metadata": {},
   "outputs": [],
   "source": [
    "#importing libraries\n",
    "\n",
    "import pandas as pd\n",
    "import numpy as np\n",
    "\n",
    "import warnings\n",
    "warnings.filterwarnings('ignore')\n",
    "\n",
    "import matplotlib.pyplot as plt\n",
    "%matplotlib inline\n",
    "\n",
    "import seaborn as sns\n",
    "\n",
    "import math\n",
    "\n",
    "from sklearn import linear_model\n",
    "from sklearn.metrics import mean_squared_error,mean_absolute_error,r2_score\n",
    "\n",
    "import statsmodels.api as sm\n",
    "from statsmodels.formula.api import ols"
   ]
  },
  {
   "cell_type": "code",
   "execution_count": 2,
   "id": "41881e2c",
   "metadata": {},
   "outputs": [
    {
     "name": "stdout",
     "output_type": "stream",
     "text": [
      "(13700, 108)\n",
      "(3425, 105)\n"
     ]
    }
   ],
   "source": [
    "#importing datasets from csv and printing size\n",
    "\n",
    "train_data = pd.read_csv(r\"C:\\Users\\pedro\\Desktop\\Ironhack\\FIFA_TRAIN_DATA.csv\", sep=\"?\")\n",
    "test_data = pd.read_csv(r\"C:\\Users\\pedro\\Desktop\\Ironhack\\FIFA_TEST_DATA.csv\", sep=\"?\")\n",
    "print(train_data.shape)\n",
    "print(test_data.shape)"
   ]
  },
  {
   "cell_type": "code",
   "execution_count": 3,
   "id": "2ae41d5d",
   "metadata": {},
   "outputs": [
    {
     "data": {
      "text/plain": [
       "array(['Unnamed: 0', 'ID', 'Name', 'Age', 'OVA', 'Nationality', 'Club',\n",
       "       'BOV', 'BP', 'Position', 'Player Photo', 'Club Logo', 'Flag Photo',\n",
       "       'POT', 'Team & Contract', 'Height', 'Weight', 'foot', 'Growth',\n",
       "       'Joined', 'Loan Date End', 'Value', 'Wage', 'Release Clause',\n",
       "       'Contract', 'Attacking', 'Crossing', 'Finishing',\n",
       "       'Heading Accuracy', 'Short Passing', 'Volleys', 'Skill',\n",
       "       'Dribbling', 'Curve', 'FK Accuracy', 'Long Passing',\n",
       "       'Ball Control', 'Movement', 'Acceleration', 'Sprint Speed',\n",
       "       'Agility', 'Reactions', 'Balance', 'Power', 'Shot Power',\n",
       "       'Jumping', 'Stamina', 'Strength', 'Long Shots', 'Mentality',\n",
       "       'Aggression', 'Interceptions', 'Positioning', 'Vision',\n",
       "       'Penalties', 'Composure', 'Defending', 'Marking',\n",
       "       'Standing Tackle', 'Sliding Tackle', 'Goalkeeping', 'GK Diving',\n",
       "       'GK Handling', 'GK Kicking', 'GK Positioning', 'GK Reflexes',\n",
       "       'Total Stats', 'Base Stats', 'W/F', 'SM', 'A/W', 'D/W', 'IR',\n",
       "       'PAC', 'SHO', 'PAS', 'DRI', 'DEF', 'PHY', 'Hits', 'LS', 'ST', 'RS',\n",
       "       'LW', 'LF', 'CF', 'RF', 'RW', 'LAM', 'CAM', 'RAM', 'LM', 'LCM',\n",
       "       'CM', 'RCM', 'RM', 'LWB', 'LDM', 'CDM', 'RDM', 'RWB', 'LB', 'LCB',\n",
       "       'CB', 'RCB', 'RB', 'GK', 'Gender'], dtype=object)"
      ]
     },
     "execution_count": 3,
     "metadata": {},
     "output_type": "execute_result"
    }
   ],
   "source": [
    "#listing dataset variables\n",
    "\n",
    "train_data.columns.values"
   ]
  },
  {
   "cell_type": "code",
   "execution_count": 4,
   "id": "8d5f689d",
   "metadata": {},
   "outputs": [],
   "source": [
    "#function standardizing and converting market value to numeric variable\n",
    "\n",
    "def transform_value(value):\n",
    "    if 'M' in value:\n",
    "        if '.' in value:\n",
    "            # Convert to float, remove dots, and multiply by 10^5\n",
    "            return str(int(float(value.replace('M', '').replace('.', '')) * 1e5))\n",
    "        else:\n",
    "            # Convert to integer by removing 'M' and adding six zeros\n",
    "            return value.replace('M', '') + '000000'\n",
    "    else:\n",
    "        # Handle cases with \"M\" but no \".\"\n",
    "        return value\n",
    "    \n",
    "def transform_dataframe(df):\n",
    "    # replacing k by 000\n",
    "    df['Value_M'] = df['Value'].str.replace(\"K\", \"000\").astype(str)\n",
    "    #removing € symbol\n",
    "    df['Value_M'] = df['Value_M'].str.replace(\"€\", \"\").astype(str)\n",
    "    #applying previous function transform_value\n",
    "    df['Value_M'] = df['Value_M'].apply(transform_value)\n",
    "    #changing data format to numeric\n",
    "    df['Value_M']=pd.to_numeric(df['Value_M'])\n",
    "    #dividing by 100000 to show the unit in Millions\n",
    "    df['Value_M']=df['Value_M']/1000000\n",
    "    return df"
   ]
  },
  {
   "cell_type": "code",
   "execution_count": 5,
   "id": "b3402eb5",
   "metadata": {},
   "outputs": [],
   "source": [
    "#function converting feet,inches to cm \n",
    "\n",
    "def convert_height_to_cm(df, column_name):\n",
    "    # Function to apply to each row of the column\n",
    "    def convert_height(height_str):\n",
    "        # Split the string at the single quote mark (')\n",
    "        parts = height_str.split(\"'\")\n",
    "        # Extract feet and inches and convert to integers\n",
    "        feet = int(parts[0])\n",
    "        inches = int(parts[1].rstrip('\"'))  # Remove the trailing double quote\n",
    "        new_feet = feet * 30.48\n",
    "        new_inches = inches * 2.54\n",
    "        return new_feet + new_inches\n",
    "    # Apply the function to the specified column\n",
    "    df['Height_cm'] = df[column_name].apply(convert_height)"
   ]
  },
  {
   "cell_type": "code",
   "execution_count": 6,
   "id": "dbb734e6",
   "metadata": {},
   "outputs": [
    {
     "data": {
      "text/html": [
       "<div>\n",
       "<style scoped>\n",
       "    .dataframe tbody tr th:only-of-type {\n",
       "        vertical-align: middle;\n",
       "    }\n",
       "\n",
       "    .dataframe tbody tr th {\n",
       "        vertical-align: top;\n",
       "    }\n",
       "\n",
       "    .dataframe thead th {\n",
       "        text-align: right;\n",
       "    }\n",
       "</style>\n",
       "<table border=\"1\" class=\"dataframe\">\n",
       "  <thead>\n",
       "    <tr style=\"text-align: right;\">\n",
       "      <th></th>\n",
       "      <th>Value</th>\n",
       "      <th>Value_M</th>\n",
       "      <th>Height</th>\n",
       "      <th>Height_cm</th>\n",
       "    </tr>\n",
       "  </thead>\n",
       "  <tbody>\n",
       "    <tr>\n",
       "      <th>0</th>\n",
       "      <td>€600K</td>\n",
       "      <td>0.600</td>\n",
       "      <td>5'10\"</td>\n",
       "      <td>177.80</td>\n",
       "    </tr>\n",
       "    <tr>\n",
       "      <th>1</th>\n",
       "      <td>€1.1M</td>\n",
       "      <td>1.100</td>\n",
       "      <td>5'9\"</td>\n",
       "      <td>175.26</td>\n",
       "    </tr>\n",
       "    <tr>\n",
       "      <th>2</th>\n",
       "      <td>€5.5M</td>\n",
       "      <td>5.500</td>\n",
       "      <td>5'7\"</td>\n",
       "      <td>170.18</td>\n",
       "    </tr>\n",
       "    <tr>\n",
       "      <th>3</th>\n",
       "      <td>€2.8M</td>\n",
       "      <td>2.800</td>\n",
       "      <td>5'7\"</td>\n",
       "      <td>170.18</td>\n",
       "    </tr>\n",
       "    <tr>\n",
       "      <th>4</th>\n",
       "      <td>€1K</td>\n",
       "      <td>0.001</td>\n",
       "      <td>5'10\"</td>\n",
       "      <td>177.80</td>\n",
       "    </tr>\n",
       "  </tbody>\n",
       "</table>\n",
       "</div>"
      ],
      "text/plain": [
       "   Value  Value_M Height  Height_cm\n",
       "0  €600K    0.600  5'10\"     177.80\n",
       "1  €1.1M    1.100   5'9\"     175.26\n",
       "2  €5.5M    5.500   5'7\"     170.18\n",
       "3  €2.8M    2.800   5'7\"     170.18\n",
       "4    €1K    0.001  5'10\"     177.80"
      ]
     },
     "execution_count": 6,
     "metadata": {},
     "output_type": "execute_result"
    }
   ],
   "source": [
    "#applying the previous transformations to Market Value and Height\n",
    "\n",
    "convert_height_to_cm(train_data, \"Height\")\n",
    "transform_dataframe(train_data)\n",
    "\n",
    "train_data[['Value','Value_M','Height','Height_cm']].head(5)"
   ]
  },
  {
   "cell_type": "code",
   "execution_count": 7,
   "id": "13c218cd",
   "metadata": {},
   "outputs": [
    {
     "data": {
      "image/png": "[encoded data removed]",
      "text/plain": [
       "<Figure size 640x480 with 1 Axes>"
      ]
     },
     "metadata": {},
     "output_type": "display_data"
    },
    {
     "data": {
      "image/png": "[encoded data removed]",
      "text/plain": [
       "<Figure size 640x480 with 1 Axes>"
      ]
     },
     "metadata": {},
     "output_type": "display_data"
    }
   ],
   "source": [
    "#histogram of OVA\n",
    "sns.distplot(train_data['OVA'])\n",
    "plt.xlabel('OVA')\n",
    "plt.ylabel('Frequency')\n",
    "plt.title('OVA distribution')\n",
    "plt.show()\n",
    "# same with seaborn\n",
    "plt.gca().set_facecolor('lightgray')\n",
    "sns.histplot(train_data['OVA'],color='red',edgecolor='grey', fill=True,shrink=1)\n",
    "plt.xlabel('OVA')\n",
    "plt.ylabel('Frequency')\n",
    "plt.title('OVA distribution')\n",
    "plt.show()"
   ]
  },
  {
   "cell_type": "code",
   "execution_count": 8,
   "id": "3cf8eed2",
   "metadata": {},
   "outputs": [
    {
     "data": {
      "text/plain": [
       "<Axes: title={'center': 'OVA vs Market Value'}, xlabel='OVA', ylabel='Market Value'>"
      ]
     },
     "execution_count": 8,
     "metadata": {},
     "output_type": "execute_result"
    },
    {
     "data": {
      "image/png": "[encoded data removed]",
      "text/plain": [
       "<Figure size 640x480 with 1 Axes>"
      ]
     },
     "metadata": {},
     "output_type": "display_data"
    }
   ],
   "source": [
    "#scatterplotting OVA / Market Value distribution\n",
    "\n",
    "ova_value=train_data.sort_values(['OVA'],ascending=False)[['OVA','Value_M']]\n",
    "\n",
    "plt.xlabel('OVA')\n",
    "plt.ylabel('Market Value')\n",
    "plt.title('OVA vs Market Value')\n",
    "\n",
    "sns.scatterplot(x=ova_value['OVA'], y=ova_value['Value_M'])"
   ]
  },
  {
   "cell_type": "code",
   "execution_count": 9,
   "id": "0e3d3a95",
   "metadata": {},
   "outputs": [
    {
     "data": {
      "image/png": "[encoded data removed]",
      "text/plain": [
       "<Figure size 640x480 with 1 Axes>"
      ]
     },
     "metadata": {},
     "output_type": "display_data"
    }
   ],
   "source": [
    "#scatterplotting OVA / Market Value distribution only for top200 OVA players\n",
    "\n",
    "ova_value=train_data.sort_values(['OVA'],ascending=False)[['OVA','Value_M']].head(200)\n",
    "\n",
    "plt.xlabel('OVA')\n",
    "plt.ylabel('Market Value')\n",
    "plt.title('OVA vs Market Value - Top 200 OVA')\n",
    "\n",
    "sns.scatterplot(x=ova_value['OVA'], y=ova_value['Value_M'])\n",
    "plt.show()"
   ]
  },
  {
   "cell_type": "code",
   "execution_count": 10,
   "id": "0d69bf67",
   "metadata": {
    "scrolled": true
   },
   "outputs": [
    {
     "data": {
      "text/html": [
       "<div>\n",
       "<style scoped>\n",
       "    .dataframe tbody tr th:only-of-type {\n",
       "        vertical-align: middle;\n",
       "    }\n",
       "\n",
       "    .dataframe tbody tr th {\n",
       "        vertical-align: top;\n",
       "    }\n",
       "\n",
       "    .dataframe thead th {\n",
       "        text-align: right;\n",
       "    }\n",
       "</style>\n",
       "<table border=\"1\" class=\"dataframe\">\n",
       "  <thead>\n",
       "    <tr style=\"text-align: right;\">\n",
       "      <th></th>\n",
       "      <th>Value_M</th>\n",
       "      <th>Value</th>\n",
       "      <th>Name</th>\n",
       "      <th>OVA</th>\n",
       "    </tr>\n",
       "  </thead>\n",
       "  <tbody>\n",
       "    <tr>\n",
       "      <th>602</th>\n",
       "      <td>67.5</td>\n",
       "      <td>€67.5M</td>\n",
       "      <td>L. Messi</td>\n",
       "      <td>93</td>\n",
       "    </tr>\n",
       "    <tr>\n",
       "      <th>111</th>\n",
       "      <td>46.0</td>\n",
       "      <td>€46M</td>\n",
       "      <td>Cristiano Ronaldo</td>\n",
       "      <td>92</td>\n",
       "    </tr>\n",
       "    <tr>\n",
       "      <th>1845</th>\n",
       "      <td>80.0</td>\n",
       "      <td>€80M</td>\n",
       "      <td>R. Lewandowski</td>\n",
       "      <td>91</td>\n",
       "    </tr>\n",
       "    <tr>\n",
       "      <th>2946</th>\n",
       "      <td>75.0</td>\n",
       "      <td>€75M</td>\n",
       "      <td>J. Oblak</td>\n",
       "      <td>91</td>\n",
       "    </tr>\n",
       "    <tr>\n",
       "      <th>2138</th>\n",
       "      <td>90.0</td>\n",
       "      <td>€90M</td>\n",
       "      <td>Neymar Jr</td>\n",
       "      <td>91</td>\n",
       "    </tr>\n",
       "  </tbody>\n",
       "</table>\n",
       "</div>"
      ],
      "text/plain": [
       "      Value_M   Value               Name  OVA\n",
       "602      67.5  €67.5M           L. Messi   93\n",
       "111      46.0    €46M  Cristiano Ronaldo   92\n",
       "1845     80.0    €80M     R. Lewandowski   91\n",
       "2946     75.0    €75M           J. Oblak   91\n",
       "2138     90.0    €90M          Neymar Jr   91"
      ]
     },
     "execution_count": 10,
     "metadata": {},
     "output_type": "execute_result"
    }
   ],
   "source": [
    "#exploring dataset to identify top OVA players\n",
    "train_data.sort_values(['OVA'],ascending=False)[['Value_M','Value','Name','OVA']].head(5)"
   ]
  },
  {
   "cell_type": "code",
   "execution_count": 11,
   "id": "7c06d83f",
   "metadata": {},
   "outputs": [
    {
     "data": {
      "text/html": [
       "<div>\n",
       "<style scoped>\n",
       "    .dataframe tbody tr th:only-of-type {\n",
       "        vertical-align: middle;\n",
       "    }\n",
       "\n",
       "    .dataframe tbody tr th {\n",
       "        vertical-align: top;\n",
       "    }\n",
       "\n",
       "    .dataframe thead th {\n",
       "        text-align: right;\n",
       "    }\n",
       "</style>\n",
       "<table border=\"1\" class=\"dataframe\">\n",
       "  <thead>\n",
       "    <tr style=\"text-align: right;\">\n",
       "      <th></th>\n",
       "      <th>Value_M</th>\n",
       "      <th>Value</th>\n",
       "      <th>Name</th>\n",
       "      <th>OVA</th>\n",
       "    </tr>\n",
       "  </thead>\n",
       "  <tbody>\n",
       "    <tr>\n",
       "      <th>2138</th>\n",
       "      <td>90.0</td>\n",
       "      <td>€90M</td>\n",
       "      <td>Neymar Jr</td>\n",
       "      <td>91</td>\n",
       "    </tr>\n",
       "    <tr>\n",
       "      <th>2314</th>\n",
       "      <td>87.0</td>\n",
       "      <td>€87M</td>\n",
       "      <td>K. De Bruyne</td>\n",
       "      <td>91</td>\n",
       "    </tr>\n",
       "    <tr>\n",
       "      <th>1845</th>\n",
       "      <td>80.0</td>\n",
       "      <td>€80M</td>\n",
       "      <td>R. Lewandowski</td>\n",
       "      <td>91</td>\n",
       "    </tr>\n",
       "    <tr>\n",
       "      <th>4104</th>\n",
       "      <td>78.0</td>\n",
       "      <td>€78M</td>\n",
       "      <td>M. Salah</td>\n",
       "      <td>90</td>\n",
       "    </tr>\n",
       "    <tr>\n",
       "      <th>2946</th>\n",
       "      <td>75.0</td>\n",
       "      <td>€75M</td>\n",
       "      <td>J. Oblak</td>\n",
       "      <td>91</td>\n",
       "    </tr>\n",
       "  </tbody>\n",
       "</table>\n",
       "</div>"
      ],
      "text/plain": [
       "      Value_M Value            Name  OVA\n",
       "2138     90.0  €90M       Neymar Jr   91\n",
       "2314     87.0  €87M    K. De Bruyne   91\n",
       "1845     80.0  €80M  R. Lewandowski   91\n",
       "4104     78.0  €78M        M. Salah   90\n",
       "2946     75.0  €75M        J. Oblak   91"
      ]
     },
     "execution_count": 11,
     "metadata": {},
     "output_type": "execute_result"
    }
   ],
   "source": [
    "#exploring dataset to identify most valuable players\n",
    "train_data.sort_values(['Value_M'],ascending=False)[['Value_M','Value','Name','OVA']].head(5)"
   ]
  },
  {
   "cell_type": "code",
   "execution_count": 12,
   "id": "10c28392",
   "metadata": {},
   "outputs": [
    {
     "data": {
      "text/plain": [
       "BP\n",
       "CAM    1796\n",
       "CB     2553\n",
       "CDM     988\n",
       "CF       68\n",
       "CM      783\n",
       "GK     1281\n",
       "LB      736\n",
       "LM      657\n",
       "LW      171\n",
       "LWB     199\n",
       "RB      721\n",
       "RM     1135\n",
       "RW      269\n",
       "RWB     196\n",
       "ST     2147\n",
       "Name: BP, dtype: int64"
      ]
     },
     "execution_count": 12,
     "metadata": {},
     "output_type": "execute_result"
    }
   ],
   "source": [
    "#counting number of players by position\n",
    "train_data['BP'].groupby([train_data['BP']]).count()"
   ]
  },
  {
   "cell_type": "code",
   "execution_count": 13,
   "id": "c34b7bc6",
   "metadata": {},
   "outputs": [],
   "source": [
    "#adding a new column dividing the original dataset in four parts, by position (train_data)\n",
    "train_data['BP_grouped']=np.where(train_data[\"BP\"]==\"GK\",\"GK\",np.where(train_data[\"BP\"].isin([\"CB\",\"LB\",\"LWB\",\"RB\",\"RWB\"]),\"D\",np.where(train_data[\"BP\"].isin([\"CAM\",\"CDM\",\"CM\",\"LM\",\"RM\",\"RW\",\"LW\"]),\"M\",np.where(train_data[\"BP\"].isin([\"ST\",\"CF\"]),\"ST\",\"\"))))"
   ]
  },
  {
   "cell_type": "code",
   "execution_count": 14,
   "id": "702da941",
   "metadata": {},
   "outputs": [
    {
     "name": "stdout",
     "output_type": "stream",
     "text": [
      "train_data_GK.shape:  (1281, 111) train_data_D.shape:  (4405, 111) \n",
      " train_data_M.shape:  (5799, 111) train_data_ST.shape:  (2215, 111)\n"
     ]
    }
   ],
   "source": [
    "#creating four subsets, by position\n",
    "train_data_GK=train_data[train_data[\"BP_grouped\"]==\"GK\"]\n",
    "train_data_D=train_data[train_data[\"BP_grouped\"]==\"D\"]\n",
    "train_data_M=train_data[train_data[\"BP_grouped\"]==\"M\"]\n",
    "train_data_ST=train_data[train_data[\"BP_grouped\"]==\"ST\"]\n",
    "\n",
    "print(\"train_data_GK.shape: \",train_data_GK.shape,\"train_data_D.shape: \",train_data_D.shape,\"\\n\",\"train_data_M.shape: \",train_data_M.shape,\"train_data_ST.shape: \",train_data_ST.shape)"
   ]
  },
  {
   "cell_type": "code",
   "execution_count": 15,
   "id": "2642f074",
   "metadata": {},
   "outputs": [],
   "source": [
    "#defining a function identifying the correlated variables above a specific value\n",
    "\n",
    "def correlations(df,corr_lower_bound):\n",
    "    correlations_matrix = df.corr()\n",
    "    high_correlations = correlations_matrix[correlations_matrix >= corr_lower_bound]\n",
    "    high_correlations = high_correlations.mask(np.tril(np.ones(high_correlations.shape)).astype(bool))\n",
    "    high_correlations_pairs = [(col1,col2) for col1 in high_correlations.columns for col2 in high_correlations.columns if not pd.isna(high_correlations[col1][col2])]\n",
    "    OVA_correlations=pd.DataFrame([k for k in high_correlations_pairs if 'OVA' in k])[0]\n",
    "    return OVA_correlations"
   ]
  },
  {
   "cell_type": "code",
   "execution_count": 16,
   "id": "f6b081c9",
   "metadata": {},
   "outputs": [
    {
     "name": "stdout",
     "output_type": "stream",
     "text": [
      "ALL:  ['OVA', 'BOV', 'POT', 'Reactions', 'Power', 'Shot Power', 'Vision', 'Composure', 'Total Stats', 'Base Stats', 'PAS', 'DRI', 'PHY', 'Value_M'] \n",
      "\n",
      " GK:  ['BOV', 'Reactions', 'Goalkeeping', 'GK Diving', 'GK Handling', 'GK Kicking', 'GK Positioning', 'GK Reflexes', 'Total Stats', 'Base Stats', 'PAC', 'SHO', 'PAS', 'DRI', 'PHY'] \n",
      "\n",
      " D:  ['BOV', 'Attacking', 'Short Passing', 'Long Passing', 'Ball Control', 'Reactions', 'Mentality', 'Interceptions', 'Composure', 'Defending', 'Marking', 'Standing Tackle', 'Sliding Tackle', 'Total Stats', 'Base Stats', 'PAS', 'DEF'] \n",
      "\n",
      " M:  ['BOV', 'Attacking', 'Crossing', 'Finishing', 'Short Passing', 'Volleys', 'Skill', 'Dribbling', 'Curve', 'Long Passing', 'Ball Control', 'Reactions', 'Power', 'Shot Power', 'Long Shots', 'Mentality', 'Positioning', 'Vision', 'Composure', 'Total Stats', 'Base Stats', 'SHO', 'PAS', 'DRI', 'Value_M'] \n",
      "\n",
      " ST:  ['BOV', 'Attacking', 'Finishing', 'Heading Accuracy', 'Short Passing', 'Volleys', 'Skill', 'Dribbling', 'Ball Control', 'Reactions', 'Power', 'Shot Power', 'Long Shots', 'Mentality', 'Positioning', 'Vision', 'Composure', 'Total Stats', 'Base Stats', 'SHO', 'PAS', 'DRI']\n"
     ]
    }
   ],
   "source": [
    "#printing the most correlated variables with OVA, globally and by position\n",
    "print(\"ALL: \",list(correlations(train_data,0.5).values),\"\\n\\n\",\"GK: \",list(correlations(train_data_GK,0.7).values),\"\\n\\n\",\"D: \",list(correlations(train_data_D,0.7).values),\"\\n\\n\",\"M: \",list(correlations(train_data_M,0.6).values),\"\\n\\n\",\"ST: \",list(correlations(train_data_ST,0.7).values))"
   ]
  },
  {
   "cell_type": "code",
   "execution_count": 17,
   "id": "7ebba0bb",
   "metadata": {},
   "outputs": [],
   "source": [
    "# defining a fuunction identifying multicolinearity (pairs of variables which correlation is above 0.9)\n",
    "\n",
    "def correlations2(df,corr_lower_bound):\n",
    "    correlations_matrix = df.corr()\n",
    "    high_correlations = correlations_matrix[correlations_matrix >= abs(corr_lower_bound)]\n",
    "    high_correlations = high_correlations.mask(np.tril(np.ones(high_correlations.shape)).astype(bool))\n",
    "    high_correlations_pairs = [(col1,col2) for col1 in high_correlations.columns for col2 in high_correlations.columns if not pd.isna(high_correlations[col1][col2])]\n",
    "    correlations=pd.DataFrame([k for k in high_correlations_pairs])\n",
    "    return correlations"
   ]
  },
  {
   "cell_type": "code",
   "execution_count": 18,
   "id": "2ccb4969",
   "metadata": {},
   "outputs": [
    {
     "name": "stdout",
     "output_type": "stream",
     "text": [
      "ALL:  [['BOV', 'OVA']] \n",
      "\n",
      "GK:  [['Goalkeeping', 'BOV'], ['GK Diving', 'BOV'], ['GK Diving', 'Goalkeeping'], ['GK Handling', 'BOV'], ['GK Handling', 'Goalkeeping'], ['GK Positioning', 'BOV'], ['GK Positioning', 'Goalkeeping'], ['GK Reflexes', 'BOV'], ['GK Reflexes', 'Goalkeeping'], ['GK Reflexes', 'GK Diving'], ['Base Stats', 'BOV'], ['Base Stats', 'Goalkeeping'], ['Base Stats', 'GK Diving'], ['Base Stats', 'GK Handling'], ['Base Stats', 'GK Positioning'], ['Base Stats', 'GK Reflexes'], ['PAC', 'BOV'], ['PAC', 'Goalkeeping'], ['PAC', 'GK Diving'], ['PAC', 'GK Reflexes'], ['PAC', 'Base Stats'], ['SHO', 'BOV'], ['SHO', 'Goalkeeping'], ['SHO', 'GK Handling'], ['SHO', 'Base Stats'], ['PAS', 'GK Kicking'], ['DRI', 'BOV'], ['DRI', 'Goalkeeping'], ['DRI', 'GK Diving'], ['DRI', 'GK Reflexes'], ['DRI', 'Base Stats'], ['DRI', 'PAC'], ['PHY', 'BOV'], ['PHY', 'Goalkeeping'], ['PHY', 'GK Positioning'], ['PHY', 'Base Stats']] \n",
      "\n",
      "D:  [['Defending', 'BOV'], ['Marking', 'Defending'], ['Standing Tackle', 'BOV'], ['Standing Tackle', 'Defending'], ['Sliding Tackle', 'Defending'], ['Sliding Tackle', 'Standing Tackle'], ['Total Stats', 'Attacking'], ['Total Stats', 'Mentality'], ['Base Stats', 'Attacking'], ['Base Stats', 'Total Stats'], ['PAS', 'Attacking'], ['PAS', 'Total Stats'], ['PAS', 'Base Stats'], ['DEF', 'BOV'], ['DEF', 'Interceptions'], ['DEF', 'Defending'], ['DEF', 'Marking'], ['DEF', 'Standing Tackle'], ['DEF', 'Sliding Tackle']] \n",
      "\n",
      "M:  [['Total Stats', 'Attacking'], ['Total Stats', 'Skill'], ['Total Stats', 'Mentality'], ['Base Stats', 'Attacking'], ['Base Stats', 'Skill'], ['Base Stats', 'Total Stats'], ['SHO', 'Finishing'], ['SHO', 'Long Shots'], ['PAS', 'Attacking'], ['PAS', 'Skill'], ['PAS', 'Total Stats'], ['PAS', 'Base Stats'], ['DRI', 'Dribbling']] \n",
      "\n",
      "ST:  [['Ball Control', 'BOV'], ['Positioning', 'BOV'], ['Total Stats', 'Attacking'], ['Base Stats', 'Total Stats'], ['SHO', 'BOV'], ['SHO', 'Attacking'], ['SHO', 'Finishing'], ['PAS', 'Short Passing'], ['PAS', 'Skill'], ['DRI', 'Dribbling'], ['DRI', 'Ball Control']] \n",
      "\n"
     ]
    }
   ],
   "source": [
    "# identifying multicolinearity (pairs of variables which correlation is above 0.9) on the variables correlated with OVA \n",
    "\n",
    "multicolinearity_ALL = train_data[correlations(train_data,0.5)]\n",
    "multicolinearity_GK = train_data_GK[correlations(train_data_GK,0.7)]\n",
    "multicolinearity_D = train_data_D[correlations(train_data_D,0.7)]\n",
    "multicolinearity_M = train_data_D[correlations(train_data_M,0.6)]\n",
    "multicolinearity_ST = train_data_ST[correlations(train_data_ST,0.7)]\n",
    "\n",
    "print(\"ALL: \",correlations2(multicolinearity_ALL,0.9).values.tolist(),\"\\n\")\n",
    "print(\"GK: \",correlations2(multicolinearity_GK,0.9).values.tolist(),\"\\n\")\n",
    "print(\"D: \",correlations2(multicolinearity_D,0.9).values.tolist(),\"\\n\")\n",
    "print(\"M: \",correlations2(multicolinearity_M,0.9).values.tolist(),\"\\n\")\n",
    "print(\"ST: \",correlations2(multicolinearity_ST,0.9).values.tolist(),\"\\n\")"
   ]
  },
  {
   "cell_type": "code",
   "execution_count": 19,
   "id": "ac130819",
   "metadata": {},
   "outputs": [
    {
     "name": "stdout",
     "output_type": "stream",
     "text": [
      "ALL:  []\n",
      "GK:  []\n",
      "D:  []\n",
      "M:  []\n",
      "ST:  []\n"
     ]
    }
   ],
   "source": [
    "#removing high correlated (>0.9) predictor variables to apply the model\n",
    "\n",
    "ALL=list(correlations(train_data,0.5))\n",
    "items_to_remove = [\"POT\",\"BOV\",\"Total Stats\",\"Base Stats\"]   #POT is not in test data\n",
    "ALL = [item for item in ALL if item not in items_to_remove]\n",
    "multicolinearity_ALL = train_data[ALL]\n",
    "print(\"ALL: \",correlations2(multicolinearity_ALL,0.9).values.tolist())\n",
    "\n",
    "GK=list(correlations(train_data_GK,0.7))\n",
    "items_to_remove = ['BOV','GK Diving', 'GK Handling', 'GK Kicking', 'GK Positioning', 'GK Reflexes', 'Total Stats', 'Base Stats']\n",
    "GK = [item for item in GK if item not in items_to_remove]  \n",
    "multicolinearity_GK = train_data[GK]\n",
    "print(\"GK: \",correlations2(multicolinearity_GK,0.9).values.tolist())\n",
    "\n",
    "D=list(correlations(train_data_D,0.7))\n",
    "items_to_remove = ['BOV','Marking','Short Passing','Sliding Tackle', 'Standing Tackle','Interceptions','DEF', 'Attacking', 'Total Stats', 'Base Stats']\n",
    "D = [item for item in D if item not in items_to_remove] \n",
    "multicolinearity_D = train_data[D]\n",
    "print(\"D: \",correlations2(multicolinearity_D,0.9).values.tolist())  \n",
    "\n",
    "M=list(correlations(train_data_M,0.65))\n",
    "items_to_remove = ['BOV','Attacking','Short Passing','Dribbling','Curve','Ball Control','Total Stats', 'Base Stats']\n",
    "M = [item for item in M if item not in items_to_remove] \n",
    "multicolinearity_M = train_data[M]\n",
    "print(\"M: \",correlations2(multicolinearity_M,0.9).values.tolist())  \n",
    "\n",
    "ST=list(correlations(train_data_ST,0.7))\n",
    "items_to_remove = ['BOV','Positioning', 'Short Passing', 'Dribbling','Skill','Ball Control', 'Vision','Total Stats', 'Base Stats']\n",
    "ST = [item for item in ST if item not in items_to_remove] \n",
    "multicolinearity_ST = train_data[ST]\n",
    "print(\"ST: \",correlations2(multicolinearity_ST,0.9).values.tolist()) \n"
   ]
  },
  {
   "cell_type": "code",
   "execution_count": 20,
   "id": "690f8831",
   "metadata": {},
   "outputs": [
    {
     "name": "stdout",
     "output_type": "stream",
     "text": [
      "ALL:  ['OVA', 'Reactions', 'Power', 'Shot Power', 'Vision', 'Composure', 'PAS', 'DRI', 'PHY', 'Value_M', 'Name', 'BP_grouped'] \n",
      "\n",
      " GK:  ['Reactions', 'Goalkeeping', 'PAC', 'SHO', 'PAS', 'DRI', 'PHY', 'Name', 'OVA', 'Value_M', 'BP_grouped'] \n",
      "\n",
      " D:  ['Long Passing', 'Ball Control', 'Reactions', 'Mentality', 'Composure', 'Defending', 'PAS', 'Name', 'OVA', 'Value_M', 'BP_grouped'] \n",
      "\n",
      " M:  ['Crossing', 'Skill', 'Long Passing', 'Reactions', 'Power', 'Shot Power', 'Long Shots', 'Mentality', 'Positioning', 'Vision', 'Composure', 'SHO', 'PAS', 'DRI', 'Name', 'OVA', 'Value_M', 'BP_grouped'] \n",
      "\n",
      " ST:  ['Attacking', 'Finishing', 'Heading Accuracy', 'Volleys', 'Reactions', 'Power', 'Shot Power', 'Long Shots', 'Mentality', 'Composure', 'SHO', 'PAS', 'DRI', 'Name', 'OVA', 'Value_M', 'BP_grouped']\n"
     ]
    }
   ],
   "source": [
    "#adding categorical variables needed for the following steps\n",
    "\n",
    "ALL.extend(['Name','BP_grouped'])\n",
    "GK.extend(['Name','OVA','Value_M','BP_grouped'])   \n",
    "D.extend(['Name','OVA','Value_M','BP_grouped'])\n",
    "M.extend(['Name','OVA','Value_M','BP_grouped'])\n",
    "ST.extend(['Name','OVA','Value_M','BP_grouped'])\n",
    "\n",
    "print(\"ALL: \",ALL,\"\\n\\n\",\"GK: \",GK,\"\\n\\n\",\"D: \",D,\"\\n\\n\",\"M: \",M,\"\\n\\n\",\"ST: \",ST)\n"
   ]
  },
  {
   "cell_type": "code",
   "execution_count": 21,
   "id": "d262308b",
   "metadata": {},
   "outputs": [],
   "source": [
    "#defining function counting NAs and percentage of NAs by variable\n",
    "\n",
    "def check_NA(df,variables):\n",
    "    model=df[variables]\n",
    "    print(model.isna().sum().sum())\n",
    "    print(\"\\n\",model.isna().sum() / len(model))"
   ]
  },
  {
   "cell_type": "code",
   "execution_count": 22,
   "id": "a1cf0737",
   "metadata": {},
   "outputs": [
    {
     "name": "stdout",
     "output_type": "stream",
     "text": [
      "373\n",
      "\n",
      " OVA           0.000000\n",
      "Reactions     0.000000\n",
      "Power         0.000000\n",
      "Shot Power    0.000000\n",
      "Vision        0.003212\n",
      "Composure     0.024015\n",
      "PAS           0.000000\n",
      "DRI           0.000000\n",
      "PHY           0.000000\n",
      "Value_M       0.000000\n",
      "Name          0.000000\n",
      "BP_grouped    0.000000\n",
      "dtype: float64\n",
      "0\n",
      "\n",
      " Reactions      0.0\n",
      "Goalkeeping    0.0\n",
      "PAC            0.0\n",
      "SHO            0.0\n",
      "PAS            0.0\n",
      "DRI            0.0\n",
      "PHY            0.0\n",
      "Name           0.0\n",
      "OVA            0.0\n",
      "Value_M        0.0\n",
      "BP_grouped     0.0\n",
      "dtype: float64\n",
      "100\n",
      "\n",
      " Long Passing    0.000000\n",
      "Ball Control    0.000000\n",
      "Reactions       0.000000\n",
      "Mentality       0.000000\n",
      "Composure       0.022701\n",
      "Defending       0.000000\n",
      "PAS             0.000000\n",
      "Name            0.000000\n",
      "OVA             0.000000\n",
      "Value_M         0.000000\n",
      "BP_grouped      0.000000\n",
      "dtype: float64\n",
      "141\n",
      "\n",
      " Crossing        0.000000\n",
      "Skill           0.000000\n",
      "Long Passing    0.000000\n",
      "Reactions       0.000000\n",
      "Power           0.000000\n",
      "Shot Power      0.000000\n",
      "Long Shots      0.000000\n",
      "Mentality       0.000000\n",
      "Positioning     0.000172\n",
      "Vision          0.001380\n",
      "Composure       0.022763\n",
      "SHO             0.000000\n",
      "PAS             0.000000\n",
      "DRI             0.000000\n",
      "Name            0.000000\n",
      "OVA             0.000000\n",
      "Value_M         0.000000\n",
      "BP_grouped      0.000000\n",
      "dtype: float64\n",
      "96\n",
      "\n",
      " Attacking           0.000000\n",
      "Finishing           0.000000\n",
      "Heading Accuracy    0.000000\n",
      "Volleys             0.010384\n",
      "Reactions           0.000000\n",
      "Power               0.000000\n",
      "Shot Power          0.000000\n",
      "Long Shots          0.000000\n",
      "Mentality           0.000000\n",
      "Composure           0.032957\n",
      "SHO                 0.000000\n",
      "PAS                 0.000000\n",
      "DRI                 0.000000\n",
      "Name                0.000000\n",
      "OVA                 0.000000\n",
      "Value_M             0.000000\n",
      "BP_grouped          0.000000\n",
      "dtype: float64\n"
     ]
    }
   ],
   "source": [
    "#counting NAs and percentage of NAs by variable (all under 3% so we decided to drop)\n",
    "\n",
    "check_NA(train_data,ALL)\n",
    "check_NA(train_data_GK,GK)\n",
    "check_NA(train_data_D,D)\n",
    "check_NA(train_data_M,M)\n",
    "check_NA(train_data_ST,ST)"
   ]
  },
  {
   "cell_type": "code",
   "execution_count": 23,
   "id": "f4b923b3",
   "metadata": {},
   "outputs": [
    {
     "name": "stdout",
     "output_type": "stream",
     "text": [
      "Global:  (13371, 12)\n",
      "GK:  (1281, 11)\n",
      "D:  (4305, 11)\n",
      "M:  (5667, 18)\n",
      "ST:  (2142, 17)\n"
     ]
    }
   ],
   "source": [
    "#dropping NA's\n",
    "\n",
    "model_ALL=train_data[ALL].dropna()\n",
    "model_GK=train_data_GK[GK].dropna()\n",
    "model_D=train_data_D[D].dropna()\n",
    "model_M=train_data_M[M].dropna()\n",
    "model_ST=train_data_ST[ST].dropna()\n",
    "\n",
    "print(\"Global: \",model_ALL.shape)\n",
    "print(\"GK: \",model_GK.shape)\n",
    "print(\"D: \",model_D.shape)\n",
    "print(\"M: \",model_M.shape)\n",
    "print(\"ST: \",model_ST.shape)"
   ]
  },
  {
   "cell_type": "code",
   "execution_count": 24,
   "id": "a1782d93",
   "metadata": {},
   "outputs": [],
   "source": [
    "#defining function applying the linear regression model (for global and by position)\n",
    "\n",
    "def regmodel(df,list_variables):\n",
    "    Y=df['OVA']\n",
    "    X=df[list_variables].drop(['Name','OVA','Value_M','BP_grouped'],axis=1)\n",
    "    X=sm.add_constant(X)\n",
    "    model = sm.OLS(Y,X).fit()\n",
    "    coefficients=model.params\n",
    "    ypred=round(model.predict(X),2)\n",
    "    r2=round(r2_score(Y,ypred),3)\n",
    "    mse=round(mean_squared_error(Y,ypred),3)\n",
    "    rmse=round(math.sqrt(mean_squared_error(Y,ypred)),3)\n",
    "    mae=round(mean_absolute_error(Y,ypred),3)\n",
    "    return (ypred,r2,mse,rmse,mae,coefficients)\n",
    "   "
   ]
  },
  {
   "cell_type": "code",
   "execution_count": 25,
   "id": "d3eaa74a",
   "metadata": {},
   "outputs": [
    {
     "name": "stdout",
     "output_type": "stream",
     "text": [
      "Global  R2 0.863 MSE 6.38 RMSE 2.526 MAE 1.995\n",
      "GK      R2 0.998 MSE 0.126 RMSE 0.356 MAE 0.286\n",
      "D       R2 0.944 MSE 2.45 RMSE 1.565 MAE 1.237\n",
      "M       R2 0.92 MSE 3.653 RMSE 1.911 MAE 1.476\n",
      "ST      R2 0.979 MSE 0.972 RMSE 0.986 MAE 0.757\n"
     ]
    }
   ],
   "source": [
    "#R2, MSE, RMSE and MAE of the global model\n",
    "#R2, MSE, RMSE and MAE of the models by position\n",
    "\n",
    "print(\"Global  R2\",regmodel(model_ALL,ALL)[1],\"MSE\",regmodel(model_ALL,ALL)[2],\"RMSE\",regmodel(model_ALL,ALL)[3],\"MAE\",regmodel(model_ALL,ALL)[4])\n",
    "print(\"GK      R2\",regmodel(model_GK,GK)[1],\"MSE\",regmodel(model_GK,GK)[2],\"RMSE\",regmodel(model_GK,GK)[3],\"MAE\",regmodel(model_GK,GK)[4])\n",
    "print(\"D       R2\",regmodel(model_D,D)[1],\"MSE\",regmodel(model_D,D)[2],\"RMSE\",regmodel(model_D,D)[3],\"MAE\",regmodel(model_D,D)[4])\n",
    "print(\"M       R2\",regmodel(model_M,M)[1],\"MSE\",regmodel(model_M,M)[2],\"RMSE\",regmodel(model_M,M)[3],\"MAE\",regmodel(model_M,M)[4])\n",
    "print(\"ST      R2\",regmodel(model_ST,ST)[1],\"MSE\",regmodel(model_ST,ST)[2],\"RMSE\",regmodel(model_ST,ST)[3],\"MAE\",regmodel(model_ST,ST)[4])"
   ]
  },
  {
   "cell_type": "code",
   "execution_count": 26,
   "id": "ad4b118d",
   "metadata": {},
   "outputs": [
    {
     "name": "stdout",
     "output_type": "stream",
     "text": [
      "R2:  0.863\n"
     ]
    }
   ],
   "source": [
    "#normalization of dataset, did not improve the R2\n",
    "from sklearn.preprocessing import MinMaxScaler\n",
    "\n",
    "scaler = MinMaxScaler()\n",
    "normalized_data = scaler.fit_transform(model_ALL.drop(['Name','BP_grouped','Value_M'],axis=1))\n",
    "normalized_data = pd.DataFrame(normalized_data, columns=model_ALL.drop(['Name','BP_grouped','Value_M'],axis=1).columns)\n",
    "\n",
    "Y = normalized_data['OVA']\n",
    "X = normalized_data.drop(['OVA'],axis=1)\n",
    "X = sm.add_constant(X)\n",
    "model = sm.OLS(Y,X).fit()\n",
    "model.summary()\n",
    "ypred=round(model.predict(X),2)\n",
    "print(\"R2: \",round(r2_score(Y,ypred),3))"
   ]
  },
  {
   "cell_type": "code",
   "execution_count": 27,
   "id": "aa7e68d2",
   "metadata": {},
   "outputs": [
    {
     "name": "stdout",
     "output_type": "stream",
     "text": [
      "R2: 0.946 MSE: 2.5 RMSE: 1.581 MAE: 1.17\n"
     ]
    }
   ],
   "source": [
    "#joining the four partial models by position into a single model\n",
    "#checking R2, MSE, RMSE and MAE of the model\n",
    "\n",
    "model_GK['Predictions']=regmodel(model_GK,GK)[0]\n",
    "model_D['Predictions']=regmodel(model_D,D)[0]\n",
    "model_M['Predictions']=regmodel(model_M,M)[0]\n",
    "model_ST['Predictions']=regmodel(model_ST,ST)[0]\n",
    "\n",
    "GK2=model_GK[['Name','Value_M','OVA','Predictions','BP_grouped']]\n",
    "D2=model_D[['Name','Value_M','OVA','Predictions','BP_grouped']]\n",
    "M2=model_M[['Name','Value_M','OVA','Predictions','BP_grouped']]\n",
    "ST2=model_ST[['Name','Value_M','OVA','Predictions','BP_grouped']]\n",
    "\n",
    "model2=pd.concat([GK2,D2,M2,ST2])\n",
    "model2_r2=round(r2_score(model2['OVA'],model2['Predictions']),3)\n",
    "model2_mse=round(mean_squared_error(model2['OVA'],model2['Predictions']),3)\n",
    "model2_rmse=round(math.sqrt(mean_squared_error(model2['OVA'],model2['Predictions'])),3)\n",
    "model2_mae=round(mean_absolute_error(model2['OVA'],model2['Predictions']),3)\n",
    "print(\"R2:\",model2_r2,\"MSE:\",model2_mse,\"RMSE:\",model2_rmse,\"MAE:\",model2_mae)"
   ]
  },
  {
   "cell_type": "code",
   "execution_count": 28,
   "id": "71a21e95",
   "metadata": {},
   "outputs": [
    {
     "name": "stdout",
     "output_type": "stream",
     "text": [
      "                   Name  OVA  Value_M  Predictions\n",
      "111   Cristiano Ronaldo   92     46.0        91.65\n",
      "602            L. Messi   93     67.5        90.82\n",
      "2314       K. De Bruyne   91     87.0        90.04\n",
      "2946           J. Oblak   91     75.0        89.97\n",
      "4636            Alisson   90     62.5        89.27\n",
      "1845     R. Lewandowski   91     80.0        88.83\n",
      "2254      M. ter Stegen   90     69.5        88.59\n",
      "544        Sergio Ramos   89     24.5        88.51\n",
      "528           S. Agüero   89     53.0        88.20\n",
      "2138          Neymar Jr   91     90.0        88.05\n"
     ]
    }
   ],
   "source": [
    "#comparing the predictions to the real OVA for the top-players (sorted by predictions)\n",
    "\n",
    "print(model2.sort_values(['Predictions'],ascending=False)[['Name','OVA','Value_M','Predictions']].head(10))"
   ]
  },
  {
   "cell_type": "code",
   "execution_count": 29,
   "id": "e6f4d7b6",
   "metadata": {},
   "outputs": [
    {
     "name": "stdout",
     "output_type": "stream",
     "text": [
      "                   Name  OVA  Value_M  Predictions\n",
      "602            L. Messi   93     67.5        90.82\n",
      "111   Cristiano Ronaldo   92     46.0        91.65\n",
      "1845     R. Lewandowski   91     80.0        88.83\n",
      "2314       K. De Bruyne   91     87.0        90.04\n",
      "2946           J. Oblak   91     75.0        89.97\n",
      "2138          Neymar Jr   91     90.0        88.05\n",
      "4636            Alisson   90     62.5        89.27\n",
      "4104           M. Salah   90     78.0        87.48\n",
      "2254      M. ter Stegen   90     69.5        88.59\n",
      "2213        T. Courtois   89     56.0        86.61\n"
     ]
    }
   ],
   "source": [
    "#comparing the predictions to the real OVA for the top-players (sorted by OVA)\n",
    "\n",
    "print(model2.sort_values(['OVA'],ascending=False)[['Name','OVA','Value_M','Predictions']].head(10))"
   ]
  },
  {
   "cell_type": "code",
   "execution_count": 30,
   "id": "72a1bb53",
   "metadata": {},
   "outputs": [],
   "source": [
    "#defining function to find top3 predicted players\n",
    "#the function group all possible combinations of three diferent players and return the sum of combined market value under €100M\n",
    "\n",
    "def top3(df):\n",
    "    \n",
    "    sum_Pred=[]\n",
    "    sum_Value=[]\n",
    "    pred_player_i=[]\n",
    "    pred_player_j=[]\n",
    "    pred_player_k=[]\n",
    "    names_i=[]\n",
    "    names_j=[]\n",
    "    names_k=[]\n",
    "    OVA_player_i=[]\n",
    "    OVA_player_j=[]\n",
    "    OVA_player_k=[]\n",
    "\n",
    "    for i in range(50):\n",
    "        for j in range(50):\n",
    "            if (j>i):\n",
    "                for k in range(50):\n",
    "                    if(k>j and k>i):\n",
    "                        sum_Pred.append(df.iloc[i,2]+df.iloc[j,2]+df.iloc[k,2])\n",
    "                        names_i.append(df.iloc[i,0])\n",
    "                        names_j.append(df.iloc[j,0])\n",
    "                        names_k.append(df.iloc[k,0])\n",
    "                        sum_Value.append(df.iloc[i,3]+df.iloc[j,3]+df.iloc[k,3])\n",
    "                        pred_player_i.append(df.iloc[i,2])\n",
    "                        pred_player_j.append(df.iloc[j,2])\n",
    "                        pred_player_k.append(df.iloc[k,2])\n",
    "                        OVA_player_i.append(df.iloc[i,1])\n",
    "                        OVA_player_j.append(df.iloc[j,1])\n",
    "                        OVA_player_k.append(df.iloc[k,1])\n",
    "                    \n",
    "    final=pd.DataFrame([names_i,names_j,names_k,sum_Pred,sum_Value,OVA_player_i,pred_player_i,OVA_player_j,pred_player_j,OVA_player_k,pred_player_k]).transpose()\n",
    "    final.columns = ['Player1', 'Player2', 'Player3','sum_Pred','sum_Value','OVA_Player1','Pred_Player1','OVA_Player2','Pred_Player2','OVA_Player3','Pred_Player3']\n",
    "\n",
    "    #applying the filter of budget limit\n",
    "    c=final[final['sum_Value']<=100]\n",
    "\n",
    "    return c"
   ]
  },
  {
   "cell_type": "code",
   "execution_count": 31,
   "id": "ce78add5",
   "metadata": {},
   "outputs": [
    {
     "name": "stdout",
     "output_type": "stream",
     "text": [
      "                Player1       Player2       Player3 sum_Pred sum_Value  \\\n",
      "1548  Cristiano Ronaldo  Sergio Ramos     H. Lloris   266.36      97.5   \n",
      "1559  Cristiano Ronaldo  Sergio Ramos         Piqué   266.27      91.5   \n",
      "1538  Cristiano Ronaldo  Sergio Ramos      K. Navas    266.2      97.5   \n",
      "1550  Cristiano Ronaldo  Sergio Ramos   David Silva   266.05      93.0   \n",
      "1552  Cristiano Ronaldo  Sergio Ramos     Y. Sommer   265.63      99.0   \n",
      "1535  Cristiano Ronaldo  Sergio Ramos  G. Chiellini   264.98      86.0   \n",
      "2209  Cristiano Ronaldo     H. Lloris         Piqué   263.96      94.0   \n",
      "2013  Cristiano Ronaldo      K. Navas     H. Lloris   263.89     100.0   \n",
      "2024  Cristiano Ronaldo      K. Navas         Piqué    263.8      94.0   \n",
      "2200  Cristiano Ronaldo     H. Lloris   David Silva   263.74      95.5   \n",
      "\n",
      "     OVA_Player1 Pred_Player1 OVA_Player2 Pred_Player2 OVA_Player3  \\\n",
      "1548          92        91.65          89        88.51          87   \n",
      "1559          92        91.65          89        88.51          86   \n",
      "1538          92        91.65          89        88.51          87   \n",
      "1550          92        91.65          89        88.51          86   \n",
      "1552          92        91.65          89        88.51          86   \n",
      "1535          92        91.65          89        88.51          87   \n",
      "2209          92        91.65          87         86.2          86   \n",
      "2013          92        91.65          87        86.04          87   \n",
      "2024          92        91.65          87        86.04          86   \n",
      "2200          92        91.65          87         86.2          86   \n",
      "\n",
      "     Pred_Player3  \n",
      "1548         86.2  \n",
      "1559        86.11  \n",
      "1538        86.04  \n",
      "1550        85.89  \n",
      "1552        85.47  \n",
      "1535        84.82  \n",
      "2209        86.11  \n",
      "2013         86.2  \n",
      "2024        86.11  \n",
      "2200        85.89   \n",
      "\n"
     ]
    }
   ],
   "source": [
    "#printing the best solutions sorted by sum_Prediction\n",
    "\n",
    "b=model2.sort_values(['OVA'],ascending=False)[['Name','OVA','Predictions','Value_M','BP_grouped']].head(60)\n",
    "print(top3(b).sort_values(['sum_Pred'],ascending=False)[['Player1', 'Player2', 'Player3','sum_Pred','sum_Value','OVA_Player1','Pred_Player1','OVA_Player2','Pred_Player2','OVA_Player3','Pred_Player3']].head(10),\"\\n\")"
   ]
  },
  {
   "cell_type": "code",
   "execution_count": 32,
   "id": "80f20354",
   "metadata": {},
   "outputs": [
    {
     "name": "stdout",
     "output_type": "stream",
     "text": [
      "                Player1       Player2       Player3 sum_Pred sum_Value  \\\n",
      "1548  Cristiano Ronaldo  Sergio Ramos     H. Lloris   266.36      97.5   \n",
      "1559  Cristiano Ronaldo  Sergio Ramos         Piqué   266.27      91.5   \n",
      "1538  Cristiano Ronaldo  Sergio Ramos      K. Navas    266.2      97.5   \n",
      "1550  Cristiano Ronaldo  Sergio Ramos   David Silva   266.05      93.0   \n",
      "1552  Cristiano Ronaldo  Sergio Ramos     Y. Sommer   265.63      99.0   \n",
      "1535  Cristiano Ronaldo  Sergio Ramos  G. Chiellini   264.98      86.0   \n",
      "2209  Cristiano Ronaldo     H. Lloris         Piqué   263.96      94.0   \n",
      "2013  Cristiano Ronaldo      K. Navas     H. Lloris   263.89     100.0   \n",
      "2024  Cristiano Ronaldo      K. Navas         Piqué    263.8      94.0   \n",
      "2200  Cristiano Ronaldo     H. Lloris   David Silva   263.74      95.5   \n",
      "\n",
      "     OVA_Player1 Pred_Player1 OVA_Player2 Pred_Player2 OVA_Player3  \\\n",
      "1548          92        91.65          89        88.51          87   \n",
      "1559          92        91.65          89        88.51          86   \n",
      "1538          92        91.65          89        88.51          87   \n",
      "1550          92        91.65          89        88.51          86   \n",
      "1552          92        91.65          89        88.51          86   \n",
      "1535          92        91.65          89        88.51          87   \n",
      "2209          92        91.65          87         86.2          86   \n",
      "2013          92        91.65          87        86.04          87   \n",
      "2024          92        91.65          87        86.04          86   \n",
      "2200          92        91.65          87         86.2          86   \n",
      "\n",
      "     Pred_Player3  \n",
      "1548         86.2  \n",
      "1559        86.11  \n",
      "1538        86.04  \n",
      "1550        85.89  \n",
      "1552        85.47  \n",
      "1535        84.82  \n",
      "2209        86.11  \n",
      "2013         86.2  \n",
      "2024        86.11  \n",
      "2200        85.89   \n",
      "\n"
     ]
    }
   ],
   "source": [
    "#printing the best solutions sorted by sum_OVA\n",
    "print(top3(b).sort_values(['sum_Pred'],ascending=False)[['Player1', 'Player2', 'Player3','sum_Pred','sum_Value','OVA_Player1','Pred_Player1','OVA_Player2','Pred_Player2','OVA_Player3','Pred_Player3']].head(10),\"\\n\")"
   ]
  },
  {
   "cell_type": "code",
   "execution_count": 33,
   "id": "81e604a9",
   "metadata": {},
   "outputs": [
    {
     "data": {
      "image/png": "[encoded data removed]",
      "text/plain": [
       "<Figure size 640x480 with 1 Axes>"
      ]
     },
     "metadata": {},
     "output_type": "display_data"
    }
   ],
   "source": [
    "# plotting OVA vs predictions, by position\n",
    "# for the best players (OVA 85 and above), the model tends to underestimate OVA comparing to players under 85\n",
    "\n",
    "ova_pred=model2.sort_values(['OVA'],ascending=False)[['OVA','Predictions','BP_grouped']]\n",
    "\n",
    "plt.xlabel('OVA')\n",
    "plt.ylabel('Predictions')\n",
    "plt.title('OVA vs Predictions')\n",
    "\n",
    "sns.scatterplot(x=model2['OVA'], y=model2['Predictions'], hue=model2['BP_grouped'], style=model2['BP_grouped'])\n",
    "plt.plot([45, 95], [45, 95])\n",
    "plt.show()"
   ]
  },
  {
   "cell_type": "code",
   "execution_count": 34,
   "id": "cdb30d69",
   "metadata": {},
   "outputs": [
    {
     "data": {
      "image/png": "[encoded data removed]",
      "text/plain": [
       "<Figure size 640x480 with 1 Axes>"
      ]
     },
     "metadata": {},
     "output_type": "display_data"
    }
   ],
   "source": [
    "# plotting OVA vs predictions, by position, only for top200 players\n",
    "# for the best players (OVA 85 and above), the model tends to underestimate OVA comparing to players under 85\n",
    "\n",
    "ova_pred=model2.sort_values(['OVA'],ascending=False)[['OVA','Predictions','BP_grouped']].head(200)\n",
    "\n",
    "plt.xlabel('OVA')\n",
    "plt.ylabel('Predictions')\n",
    "plt.title('OVA vs Predictions')\n",
    "\n",
    "sns.scatterplot(x=ova_pred['OVA'], y=ova_pred['Predictions'], hue=ova_pred['BP_grouped'], style=ova_pred['BP_grouped'])\n",
    "plt.plot([80, 95], [80, 95])\n",
    "plt.show()"
   ]
  },
  {
   "cell_type": "code",
   "execution_count": 35,
   "id": "f6ed71d1",
   "metadata": {},
   "outputs": [
    {
     "data": {
      "text/html": [
       "<div>\n",
       "<style scoped>\n",
       "    .dataframe tbody tr th:only-of-type {\n",
       "        vertical-align: middle;\n",
       "    }\n",
       "\n",
       "    .dataframe tbody tr th {\n",
       "        vertical-align: top;\n",
       "    }\n",
       "\n",
       "    .dataframe thead th {\n",
       "        text-align: right;\n",
       "    }\n",
       "</style>\n",
       "<table border=\"1\" class=\"dataframe\">\n",
       "  <thead>\n",
       "    <tr style=\"text-align: right;\">\n",
       "      <th></th>\n",
       "      <th>Value</th>\n",
       "      <th>Value_M</th>\n",
       "    </tr>\n",
       "  </thead>\n",
       "  <tbody>\n",
       "    <tr>\n",
       "      <th>0</th>\n",
       "      <td>€325K</td>\n",
       "      <td>0.325</td>\n",
       "    </tr>\n",
       "    <tr>\n",
       "      <th>1</th>\n",
       "      <td>€975K</td>\n",
       "      <td>0.975</td>\n",
       "    </tr>\n",
       "    <tr>\n",
       "      <th>2</th>\n",
       "      <td>€400K</td>\n",
       "      <td>0.400</td>\n",
       "    </tr>\n",
       "    <tr>\n",
       "      <th>3</th>\n",
       "      <td>€0</td>\n",
       "      <td>0.000</td>\n",
       "    </tr>\n",
       "    <tr>\n",
       "      <th>4</th>\n",
       "      <td>€6M</td>\n",
       "      <td>6.000</td>\n",
       "    </tr>\n",
       "  </tbody>\n",
       "</table>\n",
       "</div>"
      ],
      "text/plain": [
       "   Value  Value_M\n",
       "0  €325K    0.325\n",
       "1  €975K    0.975\n",
       "2  €400K    0.400\n",
       "3     €0    0.000\n",
       "4    €6M    6.000"
      ]
     },
     "execution_count": 35,
     "metadata": {},
     "output_type": "execute_result"
    }
   ],
   "source": [
    "#standardizing and converting market value to numeric variable - test data\n",
    "\n",
    "transform_dataframe(test_data)\n",
    "test_data[['Value','Value_M']].head(5)"
   ]
  },
  {
   "cell_type": "code",
   "execution_count": 36,
   "id": "cfb892ea",
   "metadata": {},
   "outputs": [
    {
     "name": "stdout",
     "output_type": "stream",
     "text": [
      "test_data_GK.shape:  (295, 107) test_data_D.shape:  (1166, 107) \n",
      " test_data_M.shape:  (1430, 107) test_data_ST.shape:  (534, 107)\n"
     ]
    }
   ],
   "source": [
    "#adding a new column dividing the original dataset in four parts, by position (test_data)\n",
    "#creating four subsets, by position (test_data)\n",
    "\n",
    "test_data['BP_grouped']=np.where(test_data[\"BP\"]==\"GK\",\"GK\",np.where(test_data[\"BP\"].isin([\"CB\",\"LB\",\"LWB\",\"RB\",\"RWB\"]),\"D\",np.where(test_data[\"BP\"].isin([\"CAM\",\"CDM\",\"CM\",\"LM\",\"RM\",\"RW\",\"LW\"]),\"M\",np.where(test_data[\"BP\"].isin([\"ST\",\"CF\"]),\"ST\",\"\"))))\n",
    "\n",
    "test_data_GK=test_data[test_data[\"BP_grouped\"]==\"GK\"]\n",
    "test_data_D=test_data[test_data[\"BP_grouped\"]==\"D\"]\n",
    "test_data_M=test_data[test_data[\"BP_grouped\"]==\"M\"]\n",
    "test_data_ST=test_data[test_data[\"BP_grouped\"]==\"ST\"]\n",
    "\n",
    "print(\"test_data_GK.shape: \",test_data_GK.shape,\"test_data_D.shape: \",test_data_D.shape,\"\\n\",\"test_data_M.shape: \",test_data_M.shape,\"test_data_ST.shape: \",test_data_ST.shape)"
   ]
  },
  {
   "cell_type": "code",
   "execution_count": 37,
   "id": "8164bc73",
   "metadata": {},
   "outputs": [],
   "source": [
    "#selecting only the predictors found in train data\n",
    "\n",
    "remove_set = {'Name','OVA','Value_M','BP_grouped'}\n",
    "GK2 = [item for item in GK if item not in remove_set]\n",
    "D2 = [item for item in D if item not in remove_set]\n",
    "M2 = [item for item in M if item not in remove_set]\n",
    "ST2 = [item for item in ST if item not in remove_set]\n"
   ]
  },
  {
   "cell_type": "code",
   "execution_count": 38,
   "id": "16bfd730",
   "metadata": {},
   "outputs": [
    {
     "data": {
      "text/html": [
       "<div>\n",
       "<style scoped>\n",
       "    .dataframe tbody tr th:only-of-type {\n",
       "        vertical-align: middle;\n",
       "    }\n",
       "\n",
       "    .dataframe tbody tr th {\n",
       "        vertical-align: top;\n",
       "    }\n",
       "\n",
       "    .dataframe thead th {\n",
       "        text-align: right;\n",
       "    }\n",
       "</style>\n",
       "<table border=\"1\" class=\"dataframe\">\n",
       "  <thead>\n",
       "    <tr style=\"text-align: right;\">\n",
       "      <th></th>\n",
       "      <th>Name</th>\n",
       "      <th>Value_M</th>\n",
       "      <th>Prediction</th>\n",
       "      <th>BP_grouped</th>\n",
       "    </tr>\n",
       "  </thead>\n",
       "  <tbody>\n",
       "    <tr>\n",
       "      <th>1272</th>\n",
       "      <td>P. Lahm</td>\n",
       "      <td>29.5</td>\n",
       "      <td>89.56</td>\n",
       "      <td>D</td>\n",
       "    </tr>\n",
       "    <tr>\n",
       "      <th>494</th>\n",
       "      <td>V. van Dijk</td>\n",
       "      <td>75.5</td>\n",
       "      <td>88.39</td>\n",
       "      <td>D</td>\n",
       "    </tr>\n",
       "    <tr>\n",
       "      <th>992</th>\n",
       "      <td>M. Neuer</td>\n",
       "      <td>29.0</td>\n",
       "      <td>88.32</td>\n",
       "      <td>GK</td>\n",
       "    </tr>\n",
       "    <tr>\n",
       "      <th>1912</th>\n",
       "      <td>S. Mané</td>\n",
       "      <td>78.0</td>\n",
       "      <td>88.07</td>\n",
       "      <td>M</td>\n",
       "    </tr>\n",
       "    <tr>\n",
       "      <th>726</th>\n",
       "      <td>L. Modrić</td>\n",
       "      <td>24.5</td>\n",
       "      <td>87.57</td>\n",
       "      <td>M</td>\n",
       "    </tr>\n",
       "    <tr>\n",
       "      <th>2521</th>\n",
       "      <td>S. Handanovič</td>\n",
       "      <td>16.0</td>\n",
       "      <td>87.49</td>\n",
       "      <td>GK</td>\n",
       "    </tr>\n",
       "    <tr>\n",
       "      <th>1836</th>\n",
       "      <td>M. Hummels</td>\n",
       "      <td>33.0</td>\n",
       "      <td>87.43</td>\n",
       "      <td>D</td>\n",
       "    </tr>\n",
       "    <tr>\n",
       "      <th>158</th>\n",
       "      <td>K. Mbappé</td>\n",
       "      <td>105.5</td>\n",
       "      <td>87.30</td>\n",
       "      <td>ST</td>\n",
       "    </tr>\n",
       "    <tr>\n",
       "      <th>2347</th>\n",
       "      <td>L. Suárez</td>\n",
       "      <td>31.5</td>\n",
       "      <td>87.26</td>\n",
       "      <td>ST</td>\n",
       "    </tr>\n",
       "    <tr>\n",
       "      <th>2386</th>\n",
       "      <td>O. Kahn</td>\n",
       "      <td>0.0</td>\n",
       "      <td>86.93</td>\n",
       "      <td>GK</td>\n",
       "    </tr>\n",
       "  </tbody>\n",
       "</table>\n",
       "</div>"
      ],
      "text/plain": [
       "               Name  Value_M  Prediction BP_grouped\n",
       "1272        P. Lahm     29.5       89.56          D\n",
       "494     V. van Dijk     75.5       88.39          D\n",
       "992        M. Neuer     29.0       88.32         GK\n",
       "1912        S. Mané     78.0       88.07          M\n",
       "726       L. Modrić     24.5       87.57          M\n",
       "2521  S. Handanovič     16.0       87.49         GK\n",
       "1836     M. Hummels     33.0       87.43          D\n",
       "158       K. Mbappé    105.5       87.30         ST\n",
       "2347      L. Suárez     31.5       87.26         ST\n",
       "2386        O. Kahn      0.0       86.93         GK"
      ]
     },
     "execution_count": 38,
     "metadata": {},
     "output_type": "execute_result"
    }
   ],
   "source": [
    "#applying the model found in the train data to the test data\n",
    "#printing the top players predicted by the model\n",
    "\n",
    "Y=model_GK['OVA']\n",
    "X=model_GK[GK2]\n",
    "X=sm.add_constant(X)\n",
    "model = sm.OLS(Y,X).fit()\n",
    "test_model_GK=test_data_GK[GK2].dropna()\n",
    "test_model_GK=sm.add_constant(test_model_GK)\n",
    "ypred_GK=round(model.predict(test_model_GK),2)\n",
    "\n",
    "Y=model_D['OVA']\n",
    "X=model_D[D2]\n",
    "X=sm.add_constant(X)\n",
    "model = sm.OLS(Y,X).fit()\n",
    "test_model_D=test_data_D[D2].dropna()\n",
    "test_model_D=sm.add_constant(test_model_D)\n",
    "ypred_D=round(model.predict(test_model_D),2)\n",
    "\n",
    "Y=model_M['OVA']\n",
    "X=model_M[M2]\n",
    "X=sm.add_constant(X)\n",
    "model = sm.OLS(Y,X).fit()\n",
    "test_model_M=test_data_M[M2].dropna()\n",
    "test_model_M=sm.add_constant(test_model_M)\n",
    "ypred_M=round(model.predict(test_model_M),2)\n",
    "\n",
    "Y=model_ST['OVA']\n",
    "X=model_ST[ST2]\n",
    "X=sm.add_constant(X)\n",
    "model = sm.OLS(Y,X).fit()\n",
    "test_model_ST=test_data_ST[ST2].dropna()\n",
    "test_model_ST=sm.add_constant(test_model_ST)\n",
    "ypred_ST=round(model.predict(test_model_ST),2)\n",
    "\n",
    "\n",
    "test_data_ST['Prediction']=ypred_ST\n",
    "test_data_M['Prediction']=ypred_M\n",
    "test_data_D['Prediction']=ypred_D\n",
    "test_data_GK['Prediction']=ypred_GK\n",
    "\n",
    "model2_test=pd.concat([test_data_ST,test_data_M,test_data_D,test_data_GK])[['Name','Value_M','Prediction','BP_grouped']]\n",
    "\n",
    "model2_test.sort_values(['Prediction'],ascending=False)[['Name','Value_M','Prediction','BP_grouped']].head(10)\n"
   ]
  },
  {
   "cell_type": "code",
   "execution_count": 39,
   "id": "4662df92",
   "metadata": {},
   "outputs": [],
   "source": [
    "# defining a function finding the top-3 players which sum of market value is under €100M\n",
    "\n",
    "def top3_predict(df):\n",
    "    \n",
    "    sum_Pred=[]\n",
    "    sum_Value=[]\n",
    "    names_i=[]\n",
    "    names_j=[]\n",
    "    names_k=[]\n",
    "    value_i=[]\n",
    "    value_j=[]\n",
    "    value_k=[]\n",
    "    pred_i=[]\n",
    "    pred_j=[]\n",
    "    pred_k=[]\n",
    "\n",
    "#for each combination of three players, we store the predictions, the names, the market value (individual and global)\n",
    "#prediction was rounded up for the next integer\n",
    "    \n",
    "    for i in range(50):\n",
    "        for j in range(50):\n",
    "            if (j>i):\n",
    "                for k in range(50):\n",
    "                    if(k>j and k>i):\n",
    "                        sum_Pred.append(math.ceil(b.iloc[i,2])+math.ceil(b.iloc[j,2])+math.ceil(b.iloc[k,2]))\n",
    "                        names_i.append(b.iloc[i,0])\n",
    "                        names_j.append(b.iloc[j,0])\n",
    "                        names_k.append(b.iloc[k,0])\n",
    "                        sum_Value.append(b.iloc[i,1]+b.iloc[j,1]+b.iloc[k,1])\n",
    "                        value_i.append(b.iloc[i,1])\n",
    "                        value_j.append(b.iloc[j,1])\n",
    "                        value_k.append(b.iloc[k,1])\n",
    "                        pred_i.append(math.ceil(b.iloc[i,2]))\n",
    "                        pred_j.append(math.ceil(b.iloc[j,2]))\n",
    "                        pred_k.append(math.ceil(b.iloc[k,2]))\n",
    "                    \n",
    "    final=pd.DataFrame([names_i,names_j,names_k,sum_Pred,sum_Value,value_i,value_j,value_k,pred_i,pred_j,pred_k]).transpose()\n",
    "    final.columns = ['Player1', 'Player2', 'Player3','sum_Pred','sum_Value','Value_Player1','Value_Player2','Value_Player3','Pred_Player1','Pred_Player2','Pred_Player3']\n",
    "\n",
    "#applying the filter of budget limit\n",
    "    c=final[final['sum_Value']<=100]\n",
    "\n",
    "    return c\n",
    "    "
   ]
  },
  {
   "cell_type": "code",
   "execution_count": 43,
   "id": "306eab1d",
   "metadata": {},
   "outputs": [
    {
     "name": "stdout",
     "output_type": "stream",
     "text": [
      "     Player1        Player2        Player3 sum_Pred sum_Value Value_Player1  \\\n",
      "49   P. Lahm       M. Neuer      L. Modrić      267      83.0          29.5   \n",
      "51   P. Lahm       M. Neuer     M. Hummels      267      91.5          29.5   \n",
      "53   P. Lahm       M. Neuer      L. Suárez      267      90.0          29.5   \n",
      "50   P. Lahm       M. Neuer  S. Handanovič      267      74.5          29.5   \n",
      "141  P. Lahm      L. Modrić  S. Handanovič      266      70.0          29.5   \n",
      "144  P. Lahm      L. Modrić      L. Suárez      266      85.5          29.5   \n",
      "186  P. Lahm  S. Handanovič     M. Hummels      266      78.5          29.5   \n",
      "188  P. Lahm  S. Handanovič      L. Suárez      266      77.0          29.5   \n",
      "231  P. Lahm     M. Hummels      L. Suárez      266      94.0          29.5   \n",
      "142  P. Lahm      L. Modrić     M. Hummels      266      87.0          29.5   \n",
      "\n",
      "    Value_Player2 Value_Player3 Pred_Player1 Pred_Player2 Pred_Player3  \n",
      "49           29.0          24.5           90           89           88  \n",
      "51           29.0          33.0           90           89           88  \n",
      "53           29.0          31.5           90           89           88  \n",
      "50           29.0          16.0           90           89           88  \n",
      "141          24.5          16.0           90           88           88  \n",
      "144          24.5          31.5           90           88           88  \n",
      "186          16.0          33.0           90           88           88  \n",
      "188          16.0          31.5           90           88           88  \n",
      "231          33.0          31.5           90           88           88  \n",
      "142          24.5          33.0           90           88           88   \n",
      "\n"
     ]
    }
   ],
   "source": [
    "#printing the best solutions sorted by sum_Prediction\n",
    "\n",
    "b=model2_test.sort_values(['Prediction'],ascending=False)[['Name','Value_M','Prediction','BP_grouped']].head(60)\n",
    "print(top3_predict(b).sort_values(['sum_Pred'],ascending=False)[['Player1', 'Player2', 'Player3','sum_Pred','sum_Value','Value_Player1','Value_Player2','Value_Player3','Pred_Player1','Pred_Player2','Pred_Player3']].head(10),\"\\n\")"
   ]
  },
  {
   "cell_type": "code",
   "execution_count": 41,
   "id": "f0e3a08c",
   "metadata": {},
   "outputs": [
    {
     "data": {
      "image/png": "[encoded data removed]",
      "text/plain": [
       "<Figure size 640x480 with 1 Axes>"
      ]
     },
     "metadata": {},
     "output_type": "display_data"
    }
   ],
   "source": [
    "# scatterplotting predictions vs Market Value\n",
    "\n",
    "graph=model2_test.sort_values(['Prediction'],ascending=False)[['Prediction','Value_M','Name']].head(50)\n",
    "\n",
    "plt.xlabel('Predictions')\n",
    "plt.ylabel('Market Value')\n",
    "plt.title('Predictions vs Market Value')\n",
    "\n",
    "sns.scatterplot(x=graph['Prediction'], y=graph['Value_M'])\n",
    "plt.show()\n"
   ]
  },
  {
   "cell_type": "code",
   "execution_count": 370,
   "id": "ab2fcf81",
   "metadata": {},
   "outputs": [
    {
     "data": {
      "text/html": [
       "<div>\n",
       "<style scoped>\n",
       "    .dataframe tbody tr th:only-of-type {\n",
       "        vertical-align: middle;\n",
       "    }\n",
       "\n",
       "    .dataframe tbody tr th {\n",
       "        vertical-align: top;\n",
       "    }\n",
       "\n",
       "    .dataframe thead th {\n",
       "        text-align: right;\n",
       "    }\n",
       "</style>\n",
       "<table border=\"1\" class=\"dataframe\">\n",
       "  <thead>\n",
       "    <tr style=\"text-align: right;\">\n",
       "      <th></th>\n",
       "      <th>Player1</th>\n",
       "      <th>Player2</th>\n",
       "      <th>Player3</th>\n",
       "      <th>sum_Pred</th>\n",
       "      <th>sum_Value</th>\n",
       "      <th>Value_Player1</th>\n",
       "      <th>Value_Player2</th>\n",
       "      <th>Value_Player3</th>\n",
       "      <th>Pred_Player1</th>\n",
       "      <th>Pred_Player2</th>\n",
       "      <th>Pred_Player3</th>\n",
       "    </tr>\n",
       "  </thead>\n",
       "  <tbody>\n",
       "    <tr>\n",
       "      <th>49</th>\n",
       "      <td>P. Lahm</td>\n",
       "      <td>M. Neuer</td>\n",
       "      <td>L. Modrić</td>\n",
       "      <td>267</td>\n",
       "      <td>83.0</td>\n",
       "      <td>29.5</td>\n",
       "      <td>29.0</td>\n",
       "      <td>24.5</td>\n",
       "      <td>90</td>\n",
       "      <td>89</td>\n",
       "      <td>88</td>\n",
       "    </tr>\n",
       "  </tbody>\n",
       "</table>\n",
       "</div>"
      ],
      "text/plain": [
       "    Player1   Player2    Player3 sum_Pred sum_Value Value_Player1  \\\n",
       "49  P. Lahm  M. Neuer  L. Modrić      267      83.0          29.5   \n",
       "\n",
       "   Value_Player2 Value_Player3 Pred_Player1 Pred_Player2 Pred_Player3  \n",
       "49          29.0          24.5           90           89           88  "
      ]
     },
     "execution_count": 370,
     "metadata": {},
     "output_type": "execute_result"
    }
   ],
   "source": [
    "#final solution \n",
    "\n",
    "final_solution=top3_predict(b).sort_values(['sum_Pred'],ascending=False)[['Player1', 'Player2', 'Player3','sum_Pred','sum_Value','Value_Player1','Value_Player2','Value_Player3','Pred_Player1','Pred_Player2','Pred_Player3']].head(1)\n",
    "final_solution"
   ]
  },
  {
   "cell_type": "code",
   "execution_count": null,
   "id": "bb2d0ae2",
   "metadata": {},
   "outputs": [],
   "source": []
  }
 ],
 "metadata": {
  "kernelspec": {
   "display_name": "Python 3 (ipykernel)",
   "language": "python",
   "name": "python3"
  },
  "language_info": {
   "codemirror_mode": {
    "name": "ipython",
    "version": 3
   },
   "file_extension": ".py",
   "mimetype": "text/x-python",
   "name": "python",
   "nbconvert_exporter": "python",
   "pygments_lexer": "ipython3",
   "version": "3.11.4"
  }
 },
 "nbformat": 4,
 "nbformat_minor": 5
}
